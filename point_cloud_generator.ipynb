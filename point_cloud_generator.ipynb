{
 "cells": [
  {
   "cell_type": "code",
   "execution_count": 1,
   "metadata": {},
   "outputs": [],
   "source": [
    "import open3d as o3d\n",
    "from PIL import Image\n",
    "import matplotlib.pyplot as plt\n",
    "from mpl_toolkits import mplot3d\n",
    "import numpy as np\n",
    "from pathlib import Path\n",
    "\n",
    "%matplotlib inline"
   ]
  },
  {
   "cell_type": "code",
   "execution_count": 2,
   "metadata": {},
   "outputs": [],
   "source": [
    "path = Path(\"output2/\")"
   ]
  },
  {
   "cell_type": "code",
   "execution_count": 3,
   "metadata": {},
   "outputs": [],
   "source": [
    "# general images\n",
    "K,col, disp_col, disp = [],[],[],[]\n",
    "f = []\n",
    "files = list(path.glob(\"*.npz\"))\n",
    "for path_tmp in files:\n",
    "    arr = np.load(str(path_tmp.with_suffix(\".npz\")))\n",
    "    name = path_tmp.stem\n",
    "    try:\n",
    "        img = Image.open(str(path_tmp.parent.parent / \"media/tests\" / (path_tmp.stem + \".png\")))\n",
    "        img = img.resize(arr['depth'].shape)\n",
    "    except:\n",
    "        continue\n",
    "    disp.append(arr)\n",
    "    col.append(np.array(img))\n",
    "    f.append(path_tmp)"
   ]
  },
  {
   "cell_type": "code",
   "execution_count": 4,
   "metadata": {},
   "outputs": [],
   "source": [
    "rgb, xyz = [], []\n",
    "for num in range(len(col)):\n",
    "    #intrinsic = np.eye(3)\n",
    "    #intrinsic[0,0] = K[num][0,0]\n",
    "    #intrinsic[1,1] = K[num][0,1]\n",
    "    #intrinsic[0,2] = K[num][0,2]\n",
    "    #intrinsic[1,2] = K[num][0,3]\n",
    "    \n",
    "    xx, yy = np.meshgrid(range(col[num].shape[1]), range(col[num].shape[0]))\n",
    "\n",
    "    rgb.append(col[num].reshape((-1,3)) / 255)\n",
    "    zz = disp[num]['depth'].flatten()\n",
    "    xx = xx.flatten() / xx.max() * 2 - 1\n",
    "    yy = yy.flatten() / yy.max()\n",
    "    ones = np.ones_like(yy)\n",
    "\n",
    "    p = np.vstack((xx,yy,ones)).transpose((1,0)) * zz[:,None]\n",
    "    #p = (np.linalg.inv(intrinsic) @ p[:,:,None])[:,:,0]\n",
    "    xyz.append(p)"
   ]
  },
  {
   "cell_type": "code",
   "execution_count": 5,
   "metadata": {},
   "outputs": [],
   "source": [
    "pcds = []\n",
    "for num in range(len(col)):\n",
    "    pcd = o3d.PointCloud()\n",
    "    pcd.points = o3d.Vector3dVector(xyz[num])\n",
    "    pcd.colors = o3d.Vector3dVector(rgb[num])\n",
    "    pcds.append(pcd)"
   ]
  },
  {
   "cell_type": "code",
   "execution_count": 8,
   "metadata": {},
   "outputs": [],
   "source": [
    "for i,num in enumerate(f):\n",
    "    o3d.write_point_cloud(\"output2/%s.ply\" % num.stem, pcds[i])"
   ]
  },
  {
   "cell_type": "code",
   "execution_count": null,
   "metadata": {},
   "outputs": [],
   "source": [
    "mesh_frame = o3d.geometry.TriangleMesh.create_coordinate_frame(size=0.6, origin=[0, 0, 0])\n",
    "o3d.visualization.draw_geometries([mesh_frame, pcds[1]])"
   ]
  },
  {
   "cell_type": "code",
   "execution_count": null,
   "metadata": {},
   "outputs": [],
   "source": [
    "sorted(disp[2])"
   ]
  },
  {
   "cell_type": "code",
   "execution_count": null,
   "metadata": {},
   "outputs": [],
   "source": [
    "disp[2]['depth'].shape"
   ]
  },
  {
   "cell_type": "code",
   "execution_count": null,
   "metadata": {},
   "outputs": [],
   "source": []
  }
 ],
 "metadata": {
  "kernelspec": {
   "display_name": "Python 3",
   "language": "python",
   "name": "python3"
  },
  "language_info": {
   "codemirror_mode": {
    "name": "ipython",
    "version": 3
   },
   "file_extension": ".py",
   "mimetype": "text/x-python",
   "name": "python",
   "nbconvert_exporter": "python",
   "pygments_lexer": "ipython3",
   "version": "3.6.10"
  }
 },
 "nbformat": 4,
 "nbformat_minor": 4
}
